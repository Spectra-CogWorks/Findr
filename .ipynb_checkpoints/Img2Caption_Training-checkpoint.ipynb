{
 "cells": [
  {
   "cell_type": "markdown",
   "metadata": {},
   "source": [
    "### Training for Img2Caption"
   ]
  },
  {
   "cell_type": "code",
   "execution_count": 3,
   "metadata": {
    "ExecuteTime": {
     "end_time": "2020-07-26T02:53:51.976874Z",
     "start_time": "2020-07-26T02:53:51.969903Z"
    }
   },
   "outputs": [
    {
     "name": "stdout",
     "output_type": "stream",
     "text": [
      "The line_profiler extension is already loaded. To reload it, use:\n",
      "  %reload_ext line_profiler\n"
     ]
    }
   ],
   "source": [
    "%load_ext line_profiler\n",
    "# Imports Necessary for Training\n",
    "#from noggin import create_plot\n",
    "\n",
    "#%matplotlib notebook\n",
    "#import matplotlib.pyplot as plt\n",
    "\n",
    "#from img2caption_class import Img2Caption\n",
    "#from margin_ranking_loss import mr_loss\n",
    "from tripleextract import create_train_and_test, extract_triples\n",
    "\n",
    "import pickle\n",
    "import numpy as np\n",
    "from COCO_class import cosine_similarity, coco\n",
    "from descriptors import generate_descriptor\n",
    "from img2caption_class import Img2Caption\n",
    "import random\n",
    "\n",
    "#from mygrad.nnet.initializers import glorot_normal\n",
    "#from mynn.optimizers.adam import Adam\n"
   ]
  },
  {
   "cell_type": "code",
   "execution_count": 4,
   "metadata": {
    "ExecuteTime": {
     "end_time": "2020-07-26T02:53:55.249900Z",
     "start_time": "2020-07-26T02:53:55.182107Z"
    }
   },
   "outputs": [
    {
     "name": "stdout",
     "output_type": "stream",
     "text": [
      "25\n"
     ]
    }
   ],
   "source": [
    "# Get image IDs\n",
    "img_ids = coco.get_all_image_ids()\n",
    "# Shuffle the image IDs\n",
    "random.shuffle(img_ids)\n",
    "# Division of the image IDs between the training and validation sets through slicing\n",
    "train_imgids = img_ids[:(4 * len(img_ids)) // 5]\n",
    "val_imgids = img_ids[(4 * len(img_ids)) // 5:]\n",
    "# To restrict the captions, just add a count variable that breaks from the for loop after a certain threshold\n",
    "# is reached.\n",
    "# Populate train_captions with all the captifons\n",
    "train_captions = []\n",
    "count = 0\n",
    "for img in train_imgids:\n",
    "    # This stops for loop for testing purposes\n",
    "    if len(train_captions) >= 25:\n",
    "        break\n",
    "    \n",
    "    train_captions.extend(coco.get_caption_ids(img))\n",
    "    count += 1\n",
    "    \n",
    "# This is ensuring that the captions are randomized and not clustered by image\n",
    "random.shuffle(train_captions)\n",
    "\n",
    "print(len(train_captions))\n",
    "# Use the extract_triples() to grab the truples"
   ]
  },
  {
   "cell_type": "code",
   "execution_count": 5,
   "metadata": {
    "ExecuteTime": {
     "end_time": "2020-07-26T02:54:00.261371Z",
     "start_time": "2020-07-26T02:53:57.669367Z"
    },
    "scrolled": true
   },
   "outputs": [
    {
     "name": "stdout",
     "output_type": "stream",
     "text": [
      "Success\n"
     ]
    }
   ],
   "source": [
    "# It is the creation of the two datasets of data type np.ndarray(tuple)\n",
    "%lprun -f extract_triples extract_triples(train_captions)"
   ]
  },
  {
   "cell_type": "code",
   "execution_count": null,
   "metadata": {},
   "outputs": [],
   "source": [
    "np.savez(\"train_and_val_truples\", x_train, x_validation)"
   ]
  },
  {
   "cell_type": "code",
   "execution_count": null,
   "metadata": {
    "ExecuteTime": {
     "end_time": "2020-07-24T20:41:33.739859Z",
     "start_time": "2020-07-24T20:41:33.734913Z"
    }
   },
   "outputs": [],
   "source": [
    "from COCO_class import coco\n",
    "\n",
    "print(len(coco.caption_id_to_img_id.keys()))"
   ]
  },
  {
   "cell_type": "code",
   "execution_count": null,
   "metadata": {
    "ExecuteTime": {
     "end_time": "2020-07-24T17:50:18.683214Z",
     "start_time": "2020-07-24T17:50:18.374040Z"
    }
   },
   "outputs": [],
   "source": [
    "plotter, fig, ax = create_plot(metrics=[\"loss\"], max_fraction_spent_plotting=0.75)"
   ]
  },
  {
   "cell_type": "code",
   "execution_count": null,
   "metadata": {
    "ExecuteTime": {
     "end_time": "2020-07-24T17:50:20.856374Z",
     "start_time": "2020-07-24T17:50:20.841409Z"
    }
   },
   "outputs": [],
   "source": [
    "model = Img2Caption(512, 50)\n",
    "\n",
    "lr = 1e-4\n",
    "\n",
    "batch_size = 100\n",
    "\n",
    "epochs = 100\n",
    "\n",
    "optim = Adam(model.parameters, learning_rate=lr)"
   ]
  },
  {
   "cell_type": "code",
   "execution_count": null,
   "metadata": {},
   "outputs": [],
   "source": [
    "for epoch_cnt in range(epochs):\n",
    "    \n",
    "    idxs = np.arange(len(x_train))\n",
    "    np.random.shuffle(idxs)\n",
    "    \n",
    "    for batch_cnt in range(0, len(x_train) // batch_size):\n",
    "        # Index into `x_train` to get your batch of M images.\n",
    "        # Make sure that this is a randomly-sampled batc\n",
    "        batch_indices = idxs[batch_cnt*batch_size : (batch_cnt+1)*batch_size]\n",
    "        batch = x_train[batch_indices]\n",
    "        \n",
    "        # compute the loss associated with our predictions()\n",
    "        # STUDENT CODE HERE\n",
    "        loss = mr_loss(model, batch)\n",
    "        \n",
    "        # back-propagate through your computational graph through your loss\n",
    "        # STUDENT CODE HERE\n",
    "        loss.backward()\n",
    "\n",
    "        # execute gradient-descent by calling step() of optim\n",
    "        # STUDENT CODE HERE\n",
    "        optim.step()\n",
    "        \n",
    "        # null your gradients\n",
    "        # STUDENT CODE HERE\n",
    "        loss.null_gradients()\n",
    "\n",
    "        plotter.set_train_batch({\"loss\" : loss.item()},\n",
    "                                 batch_size=batch_size)"
   ]
  },
  {
   "cell_type": "code",
   "execution_count": null,
   "metadata": {},
   "outputs": [],
   "source": [
    "model.save_model()"
   ]
  }
 ],
 "metadata": {
  "kernelspec": {
   "display_name": "Python [conda env:week3]",
   "language": "python",
   "name": "conda-env-week3-py"
  },
  "language_info": {
   "codemirror_mode": {
    "name": "ipython",
    "version": 3
   },
   "file_extension": ".py",
   "mimetype": "text/x-python",
   "name": "python",
   "nbconvert_exporter": "python",
   "pygments_lexer": "ipython3",
   "version": "3.8.3"
  },
  "latex_envs": {
   "LaTeX_envs_menu_present": true,
   "autoclose": false,
   "autocomplete": true,
   "bibliofile": "biblio.bib",
   "cite_by": "apalike",
   "current_citInitial": 1,
   "eqLabelWithNumbers": true,
   "eqNumInitial": 1,
   "hotkeys": {
    "equation": "Ctrl-E",
    "itemize": "Ctrl-I"
   },
   "labels_anchors": false,
   "latex_user_defs": false,
   "report_style_numbering": false,
   "user_envs_cfg": false
  }
 },
 "nbformat": 4,
 "nbformat_minor": 4
}
